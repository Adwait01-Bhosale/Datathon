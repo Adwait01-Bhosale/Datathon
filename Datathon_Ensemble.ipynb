{
  "nbformat": 4,
  "nbformat_minor": 0,
  "metadata": {
    "colab": {
      "name": "Datathon_Ensemble.ipynb",
      "provenance": []
    },
    "kernelspec": {
      "name": "python3",
      "display_name": "Python 3"
    },
    "language_info": {
      "name": "python"
    }
  },
  "cells": [
    {
      "cell_type": "markdown",
      "source": [
        "## Importing the data"
      ],
      "metadata": {
        "id": "QDyQ60YeRikd"
      }
    },
    {
      "cell_type": "code",
      "execution_count": null,
      "metadata": {
        "colab": {
          "base_uri": "https://localhost:8080/"
        },
        "id": "9k7nifcwRNCO",
        "outputId": "5b4ce5f7-3a6f-41e7-f050-1b9d12e8e9c6"
      },
      "outputs": [
        {
          "output_type": "stream",
          "name": "stdout",
          "text": [
            "--2021-12-12 12:07:14--  https://raw.githubusercontent.com/Adwait01-Bhosale/Datathon/master/train.csv\n",
            "Resolving raw.githubusercontent.com (raw.githubusercontent.com)... 185.199.108.133, 185.199.109.133, 185.199.110.133, ...\n",
            "Connecting to raw.githubusercontent.com (raw.githubusercontent.com)|185.199.108.133|:443... connected.\n",
            "HTTP request sent, awaiting response... 200 OK\n",
            "Length: 381251 (372K) [text/plain]\n",
            "Saving to: ‘train.csv.12’\n",
            "\n",
            "\rtrain.csv.12          0%[                    ]       0  --.-KB/s               \rtrain.csv.12        100%[===================>] 372.32K  --.-KB/s    in 0.005s  \n",
            "\n",
            "2021-12-12 12:07:14 (73.2 MB/s) - ‘train.csv.12’ saved [381251/381251]\n",
            "\n"
          ]
        }
      ],
      "source": [
        "!wget https://raw.githubusercontent.com/Adwait01-Bhosale/Datathon/master/train.csv"
      ]
    },
    {
      "cell_type": "code",
      "source": [
        "!wget https://raw.githubusercontent.com/Adwait01-Bhosale/Datathon/master/test.csv"
      ],
      "metadata": {
        "colab": {
          "base_uri": "https://localhost:8080/"
        },
        "id": "e9OGXHIGUc_x",
        "outputId": "94a98f7e-4bc4-4ee9-c2c1-02cae2a74b83"
      },
      "execution_count": null,
      "outputs": [
        {
          "output_type": "stream",
          "name": "stdout",
          "text": [
            "--2021-12-12 12:07:15--  https://raw.githubusercontent.com/Adwait01-Bhosale/Datathon/master/test.csv\n",
            "Resolving raw.githubusercontent.com (raw.githubusercontent.com)... 185.199.111.133, 185.199.110.133, 185.199.108.133, ...\n",
            "Connecting to raw.githubusercontent.com (raw.githubusercontent.com)|185.199.111.133|:443... connected.\n",
            "HTTP request sent, awaiting response... 200 OK\n",
            "Length: 168981 (165K) [text/plain]\n",
            "Saving to: ‘test.csv.12’\n",
            "\n",
            "\rtest.csv.12           0%[                    ]       0  --.-KB/s               \rtest.csv.12         100%[===================>] 165.02K  --.-KB/s    in 0.003s  \n",
            "\n",
            "2021-12-12 12:07:15 (52.5 MB/s) - ‘test.csv.12’ saved [168981/168981]\n",
            "\n"
          ]
        }
      ]
    },
    {
      "cell_type": "code",
      "source": [
        "import pandas as pd"
      ],
      "metadata": {
        "id": "0RABSEuLRS58"
      },
      "execution_count": null,
      "outputs": []
    },
    {
      "cell_type": "code",
      "source": [
        "data=pd.read_csv(\"/content/train.csv\")"
      ],
      "metadata": {
        "id": "JDQAJBQURVjT"
      },
      "execution_count": null,
      "outputs": []
    },
    {
      "cell_type": "code",
      "source": [
        "data.head() "
      ],
      "metadata": {
        "colab": {
          "base_uri": "https://localhost:8080/",
          "height": 400
        },
        "id": "e2SwauZkRXWs",
        "outputId": "83fac27d-a90a-4687-8770-5ab4af5a538d"
      },
      "execution_count": null,
      "outputs": [
        {
          "output_type": "execute_result",
          "data": {
            "text/html": [
              "<div>\n",
              "<style scoped>\n",
              "    .dataframe tbody tr th:only-of-type {\n",
              "        vertical-align: middle;\n",
              "    }\n",
              "\n",
              "    .dataframe tbody tr th {\n",
              "        vertical-align: top;\n",
              "    }\n",
              "\n",
              "    .dataframe thead th {\n",
              "        text-align: right;\n",
              "    }\n",
              "</style>\n",
              "<table border=\"1\" class=\"dataframe\">\n",
              "  <thead>\n",
              "    <tr style=\"text-align: right;\">\n",
              "      <th></th>\n",
              "      <th>ID</th>\n",
              "      <th>Target_Death_Rate</th>\n",
              "      <th>RateOfIncidence</th>\n",
              "      <th>Income</th>\n",
              "      <th>Poverty%</th>\n",
              "      <th>Age</th>\n",
              "      <th>Ages_men</th>\n",
              "      <th>Ages_women</th>\n",
              "      <th>Location</th>\n",
              "      <th>SizeOfHousehold</th>\n",
              "      <th>Married%</th>\n",
              "      <th>Edu_less_HS</th>\n",
              "      <th>Edu_HSD</th>\n",
              "      <th>Edu_Clg</th>\n",
              "      <th>Edu_Bachdegree</th>\n",
              "      <th>Edu_HSD25</th>\n",
              "      <th>Edu_Bachdegree25</th>\n",
              "      <th>16+_Employed</th>\n",
              "      <th>16+_Unemployed</th>\n",
              "      <th>Prv_Public_HealthCov</th>\n",
              "      <th>Prv_HealthCov</th>\n",
              "      <th>Employ_PrvCov</th>\n",
              "      <th>Gov_HealthCov</th>\n",
              "      <th>Gov_HealthCov_Alone</th>\n",
              "      <th>White_Residents</th>\n",
              "      <th>Black_Residents</th>\n",
              "      <th>Married</th>\n",
              "      <th>Rate_Of_Birth</th>\n",
              "    </tr>\n",
              "  </thead>\n",
              "  <tbody>\n",
              "    <tr>\n",
              "      <th>0</th>\n",
              "      <td>1</td>\n",
              "      <td>164.9</td>\n",
              "      <td>NaN</td>\n",
              "      <td>61898</td>\n",
              "      <td>NaN</td>\n",
              "      <td>39.3</td>\n",
              "      <td>NaN</td>\n",
              "      <td>NaN</td>\n",
              "      <td>Kitsap County, Washington</td>\n",
              "      <td>2.9</td>\n",
              "      <td>52.5</td>\n",
              "      <td>11.5</td>\n",
              "      <td>39.5</td>\n",
              "      <td>42.1</td>\n",
              "      <td>NaN</td>\n",
              "      <td>23.2</td>\n",
              "      <td>19.6</td>\n",
              "      <td>51.9</td>\n",
              "      <td>8</td>\n",
              "      <td>75.1</td>\n",
              "      <td>NaN</td>\n",
              "      <td>41.600000</td>\n",
              "      <td>32.9</td>\n",
              "      <td>14.0</td>\n",
              "      <td>81.78052858</td>\n",
              "      <td>2.594728333</td>\n",
              "      <td>52.85607588</td>\n",
              "      <td>NaN</td>\n",
              "    </tr>\n",
              "    <tr>\n",
              "      <th>1</th>\n",
              "      <td>2</td>\n",
              "      <td>161.3</td>\n",
              "      <td>411.6</td>\n",
              "      <td>48127</td>\n",
              "      <td>18.6</td>\n",
              "      <td>33</td>\n",
              "      <td>32.2</td>\n",
              "      <td>33.7</td>\n",
              "      <td>Kittitas County, Washington</td>\n",
              "      <td>2.34</td>\n",
              "      <td>44.5</td>\n",
              "      <td>6.1</td>\n",
              "      <td>22.4</td>\n",
              "      <td>64.0</td>\n",
              "      <td>7.5</td>\n",
              "      <td>26</td>\n",
              "      <td>22.7</td>\n",
              "      <td>55.9</td>\n",
              "      <td>7.8</td>\n",
              "      <td>70.2</td>\n",
              "      <td>53.8</td>\n",
              "      <td>43.623423</td>\n",
              "      <td>31.1</td>\n",
              "      <td>234234.0</td>\n",
              "      <td>89.22850915</td>\n",
              "      <td>0.969102455</td>\n",
              "      <td>45.37250044</td>\n",
              "      <td>3454.333096</td>\n",
              "    </tr>\n",
              "    <tr>\n",
              "      <th>2</th>\n",
              "      <td>3</td>\n",
              "      <td>174.7</td>\n",
              "      <td>349.7</td>\n",
              "      <td>49348</td>\n",
              "      <td>14.6</td>\n",
              "      <td>-</td>\n",
              "      <td>44</td>\n",
              "      <td>45.8</td>\n",
              "      <td>Klickitat County, Washington</td>\n",
              "      <td>2.62</td>\n",
              "      <td>54.2</td>\n",
              "      <td>24</td>\n",
              "      <td>36.6</td>\n",
              "      <td>NaN</td>\n",
              "      <td>9.5</td>\n",
              "      <td>29</td>\n",
              "      <td>16</td>\n",
              "      <td>45.9</td>\n",
              "      <td>7</td>\n",
              "      <td>63.7</td>\n",
              "      <td>43.5</td>\n",
              "      <td>34.900000</td>\n",
              "      <td>42.1</td>\n",
              "      <td>21.1</td>\n",
              "      <td>90.9221902</td>\n",
              "      <td>0.739673391</td>\n",
              "      <td>54.44486837</td>\n",
              "      <td>3.729487817</td>\n",
              "    </tr>\n",
              "    <tr>\n",
              "      <th>3</th>\n",
              "      <td>4</td>\n",
              "      <td>NaN</td>\n",
              "      <td>505.4</td>\n",
              "      <td>52313</td>\n",
              "      <td>15.6</td>\n",
              "      <td>45.4</td>\n",
              "      <td>43.5</td>\n",
              "      <td>48</td>\n",
              "      <td>Mason County, Washington</td>\n",
              "      <td>2.58</td>\n",
              "      <td>50.4</td>\n",
              "      <td>29.9</td>\n",
              "      <td>35.1</td>\n",
              "      <td>NaN</td>\n",
              "      <td>4.5</td>\n",
              "      <td>30.4</td>\n",
              "      <td>11.9</td>\n",
              "      <td>44.1</td>\n",
              "      <td>12.9</td>\n",
              "      <td>60.0</td>\n",
              "      <td>38.8</td>\n",
              "      <td>32.600000</td>\n",
              "      <td>43.2</td>\n",
              "      <td>20.2</td>\n",
              "      <td>84.88263065</td>\n",
              "      <td>1.653205244</td>\n",
              "      <td>51.22035959</td>\n",
              "      <td>4.964476021</td>\n",
              "    </tr>\n",
              "    <tr>\n",
              "      <th>4</th>\n",
              "      <td>5</td>\n",
              "      <td>177.8</td>\n",
              "      <td>510.9</td>\n",
              "      <td>60397</td>\n",
              "      <td>NaN</td>\n",
              "      <td>35.8</td>\n",
              "      <td>34.7</td>\n",
              "      <td>37</td>\n",
              "      <td>Pierce County, Washington</td>\n",
              "      <td>2.65</td>\n",
              "      <td>50</td>\n",
              "      <td>15.6</td>\n",
              "      <td>36.3</td>\n",
              "      <td>NaN</td>\n",
              "      <td>7.1</td>\n",
              "      <td>28.8</td>\n",
              "      <td>16.2</td>\n",
              "      <td>56.6</td>\n",
              "      <td>9.2</td>\n",
              "      <td>69.9</td>\n",
              "      <td>NaN</td>\n",
              "      <td>44.400000</td>\n",
              "      <td>31.4</td>\n",
              "      <td>16.5</td>\n",
              "      <td>74.72966791</td>\n",
              "      <td>6.710854162</td>\n",
              "      <td>50.06357342</td>\n",
              "      <td>5.533430211</td>\n",
              "    </tr>\n",
              "  </tbody>\n",
              "</table>\n",
              "</div>"
            ],
            "text/plain": [
              "   ID Target_Death_Rate  ...      Married Rate_Of_Birth\n",
              "0   1             164.9  ...  52.85607588           NaN\n",
              "1   2             161.3  ...  45.37250044   3454.333096\n",
              "2   3             174.7  ...  54.44486837   3.729487817\n",
              "3   4               NaN  ...  51.22035959   4.964476021\n",
              "4   5             177.8  ...  50.06357342   5.533430211\n",
              "\n",
              "[5 rows x 28 columns]"
            ]
          },
          "metadata": {},
          "execution_count": 725
        }
      ]
    },
    {
      "cell_type": "code",
      "source": [
        "data.info()"
      ],
      "metadata": {
        "colab": {
          "base_uri": "https://localhost:8080/"
        },
        "id": "26CJR3tWRh9c",
        "outputId": "5cba2d53-27b8-4a31-ae3c-6801f75daa9a"
      },
      "execution_count": null,
      "outputs": [
        {
          "output_type": "stream",
          "name": "stdout",
          "text": [
            "<class 'pandas.core.frame.DataFrame'>\n",
            "RangeIndex: 2094 entries, 0 to 2093\n",
            "Data columns (total 28 columns):\n",
            " #   Column                Non-Null Count  Dtype  \n",
            "---  ------                --------------  -----  \n",
            " 0   ID                    2094 non-null   int64  \n",
            " 1   Target_Death_Rate     2085 non-null   object \n",
            " 2   RateOfIncidence       2084 non-null   object \n",
            " 3   Income                2089 non-null   object \n",
            " 4   Poverty%              2078 non-null   object \n",
            " 5   Age                   2075 non-null   object \n",
            " 6   Ages_men              2055 non-null   object \n",
            " 7   Ages_women            2078 non-null   object \n",
            " 8   Location              2094 non-null   object \n",
            " 9   SizeOfHousehold       2087 non-null   object \n",
            " 10  Married%              2084 non-null   object \n",
            " 11  Edu_less_HS           2090 non-null   object \n",
            " 12  Edu_HSD               2086 non-null   object \n",
            " 13  Edu_Clg               493 non-null    float64\n",
            " 14  Edu_Bachdegree        2079 non-null   object \n",
            " 15  Edu_HSD25             2092 non-null   object \n",
            " 16  Edu_Bachdegree25      2089 non-null   object \n",
            " 17  16+_Employed          1962 non-null   float64\n",
            " 18  16+_Unemployed        2029 non-null   object \n",
            " 19  Prv_Public_HealthCov  2080 non-null   float64\n",
            " 20  Prv_HealthCov         1665 non-null   float64\n",
            " 21  Employ_PrvCov         2086 non-null   float64\n",
            " 22  Gov_HealthCov         2085 non-null   float64\n",
            " 23  Gov_HealthCov_Alone   2093 non-null   float64\n",
            " 24  White_Residents       2079 non-null   object \n",
            " 25  Black_Residents       2091 non-null   object \n",
            " 26  Married               2085 non-null   object \n",
            " 27  Rate_Of_Birth         2072 non-null   object \n",
            "dtypes: float64(7), int64(1), object(20)\n",
            "memory usage: 458.2+ KB\n"
          ]
        }
      ]
    },
    {
      "cell_type": "markdown",
      "source": [
        "## Dropping the columns"
      ],
      "metadata": {
        "id": "lVYhpEfDNSh0"
      }
    },
    {
      "cell_type": "code",
      "source": [
        "# data=data.drop('Prv_HealthCov',axis=1)\n",
        "data=data.drop('Location',axis=1)"
      ],
      "metadata": {
        "id": "VeBurmyQN_YA"
      },
      "execution_count": null,
      "outputs": []
    },
    {
      "cell_type": "code",
      "source": [
        "data=data.drop('16+_Employed',axis=1)"
      ],
      "metadata": {
        "id": "uHvnGIZAOyGh"
      },
      "execution_count": null,
      "outputs": []
    },
    {
      "cell_type": "code",
      "source": [
        "# data=data.drop('Poverty%',axis=1)\n",
        "data=data.drop('Edu_Clg',axis=1)"
      ],
      "metadata": {
        "id": "uoaZROFiPBCz"
      },
      "execution_count": null,
      "outputs": []
    },
    {
      "cell_type": "code",
      "source": [
        "# data=data.drop('Edu_less_HS',axis=1)"
      ],
      "metadata": {
        "id": "5a9Xl5Zu3o9K"
      },
      "execution_count": null,
      "outputs": []
    },
    {
      "cell_type": "code",
      "source": [
        "# data=data.drop('Employ_PrvCov',axis=1)"
      ],
      "metadata": {
        "id": "ckODHrJ1RHOv"
      },
      "execution_count": null,
      "outputs": []
    },
    {
      "cell_type": "code",
      "source": [
        "# data=data.drop('16+_Unemployed',axis=1) "
      ],
      "metadata": {
        "id": "l5kIYvupvgCI"
      },
      "execution_count": null,
      "outputs": []
    },
    {
      "cell_type": "code",
      "source": [
        "data=data.drop('Prv_Public_HealthCov',axis=1)"
      ],
      "metadata": {
        "id": "w8pn-ke9vf5k"
      },
      "execution_count": null,
      "outputs": []
    },
    {
      "cell_type": "markdown",
      "source": [
        "## Converting all object columns to float"
      ],
      "metadata": {
        "id": "5HxnEh22PKlD"
      }
    },
    {
      "cell_type": "code",
      "source": [
        "object_cols = list(data.select_dtypes('object').columns)\n",
        "for obj in object_cols:\n",
        "   data[obj] = pd.to_numeric(data[obj],errors = 'coerce')"
      ],
      "metadata": {
        "id": "Sbw1oly0PTLl"
      },
      "execution_count": null,
      "outputs": []
    },
    {
      "cell_type": "code",
      "source": [
        "data.info()"
      ],
      "metadata": {
        "colab": {
          "base_uri": "https://localhost:8080/"
        },
        "id": "qywhzSguPdF9",
        "outputId": "9f638383-06dd-468f-fa05-4c708bd26336"
      },
      "execution_count": null,
      "outputs": [
        {
          "output_type": "stream",
          "name": "stdout",
          "text": [
            "<class 'pandas.core.frame.DataFrame'>\n",
            "RangeIndex: 2094 entries, 0 to 2093\n",
            "Data columns (total 24 columns):\n",
            " #   Column               Non-Null Count  Dtype  \n",
            "---  ------               --------------  -----  \n",
            " 0   ID                   2094 non-null   int64  \n",
            " 1   Target_Death_Rate    2081 non-null   float64\n",
            " 2   RateOfIncidence      2076 non-null   float64\n",
            " 3   Income               2082 non-null   float64\n",
            " 4   Poverty%             2072 non-null   float64\n",
            " 5   Age                  2068 non-null   float64\n",
            " 6   Ages_men             2054 non-null   float64\n",
            " 7   Ages_women           2072 non-null   float64\n",
            " 8   SizeOfHousehold      2086 non-null   float64\n",
            " 9   Married%             2080 non-null   float64\n",
            " 10  Edu_less_HS          2083 non-null   float64\n",
            " 11  Edu_HSD              2081 non-null   float64\n",
            " 12  Edu_Bachdegree       2072 non-null   float64\n",
            " 13  Edu_HSD25            2083 non-null   float64\n",
            " 14  Edu_Bachdegree25     2087 non-null   float64\n",
            " 15  16+_Unemployed       2028 non-null   float64\n",
            " 16  Prv_HealthCov        1665 non-null   float64\n",
            " 17  Employ_PrvCov        2086 non-null   float64\n",
            " 18  Gov_HealthCov        2085 non-null   float64\n",
            " 19  Gov_HealthCov_Alone  2093 non-null   float64\n",
            " 20  White_Residents      2073 non-null   float64\n",
            " 21  Black_Residents      2080 non-null   float64\n",
            " 22  Married              2081 non-null   float64\n",
            " 23  Rate_Of_Birth        2068 non-null   float64\n",
            "dtypes: float64(23), int64(1)\n",
            "memory usage: 392.8 KB\n"
          ]
        }
      ]
    },
    {
      "cell_type": "markdown",
      "source": [
        "## Filling the `Nan` values "
      ],
      "metadata": {
        "id": "UYq1h0XEPeXb"
      }
    },
    {
      "cell_type": "code",
      "source": [
        "float_cols = list(data.select_dtypes('float64').columns)\n",
        "\n",
        "data.dropna(axis=0,inplace=True)"
      ],
      "metadata": {
        "id": "huUIfOeKPlE0"
      },
      "execution_count": null,
      "outputs": []
    },
    {
      "cell_type": "code",
      "source": [
        "data.isna().sum()"
      ],
      "metadata": {
        "colab": {
          "base_uri": "https://localhost:8080/"
        },
        "id": "nWAvQzXdPm6s",
        "outputId": "e8aa690c-c299-46ca-fe8c-34acd92afb7a"
      },
      "execution_count": null,
      "outputs": [
        {
          "output_type": "execute_result",
          "data": {
            "text/plain": [
              "ID                     0\n",
              "Target_Death_Rate      0\n",
              "RateOfIncidence        0\n",
              "Income                 0\n",
              "Poverty%               0\n",
              "Age                    0\n",
              "Ages_men               0\n",
              "Ages_women             0\n",
              "SizeOfHousehold        0\n",
              "Married%               0\n",
              "Edu_less_HS            0\n",
              "Edu_HSD                0\n",
              "Edu_Bachdegree         0\n",
              "Edu_HSD25              0\n",
              "Edu_Bachdegree25       0\n",
              "16+_Unemployed         0\n",
              "Prv_HealthCov          0\n",
              "Employ_PrvCov          0\n",
              "Gov_HealthCov          0\n",
              "Gov_HealthCov_Alone    0\n",
              "White_Residents        0\n",
              "Black_Residents        0\n",
              "Married                0\n",
              "Rate_Of_Birth          0\n",
              "dtype: int64"
            ]
          },
          "metadata": {},
          "execution_count": 737
        }
      ]
    },
    {
      "cell_type": "markdown",
      "source": [
        "## Splitting the data"
      ],
      "metadata": {
        "id": "vjJ5h5lGPn9v"
      }
    },
    {
      "cell_type": "code",
      "source": [
        "X=data.drop('Target_Death_Rate',axis=1)\n",
        "y=data['Target_Death_Rate']"
      ],
      "metadata": {
        "id": "LUiBLjCGQA7V"
      },
      "execution_count": null,
      "outputs": []
    },
    {
      "cell_type": "code",
      "source": [
        "from sklearn.model_selection import train_test_split\n",
        "X_train,X_test,y_train,y_test=train_test_split(X,y,test_size=0.2,random_state=42)"
      ],
      "metadata": {
        "id": "9uY4GiOEQGfb"
      },
      "execution_count": null,
      "outputs": []
    },
    {
      "cell_type": "code",
      "source": [
        "!wget https://raw.githubusercontent.com/Adwait01-Bhosale/Datathon/master/test.csv/"
      ],
      "metadata": {
        "colab": {
          "base_uri": "https://localhost:8080/"
        },
        "id": "OoIfMp6hk57U",
        "outputId": "ef637a94-b2c0-49a0-c213-a541d3162049"
      },
      "execution_count": null,
      "outputs": [
        {
          "output_type": "stream",
          "name": "stdout",
          "text": [
            "--2021-12-12 12:07:15--  https://raw.githubusercontent.com/Adwait01-Bhosale/Datathon/master/test.csv/\n",
            "Resolving raw.githubusercontent.com (raw.githubusercontent.com)... 185.199.111.133, 185.199.108.133, 185.199.110.133, ...\n",
            "Connecting to raw.githubusercontent.com (raw.githubusercontent.com)|185.199.111.133|:443... connected.\n",
            "HTTP request sent, awaiting response... 400 Bad Request\n",
            "2021-12-12 12:07:15 ERROR 400: Bad Request.\n",
            "\n"
          ]
        }
      ]
    },
    {
      "cell_type": "code",
      "source": [
        "test_data=pd.read_csv(\"test.csv\")"
      ],
      "metadata": {
        "id": "Z01BeGtyk7jE"
      },
      "execution_count": null,
      "outputs": []
    },
    {
      "cell_type": "code",
      "source": [
        "test_data=test_data.drop('Edu_Clg',axis=1)"
      ],
      "metadata": {
        "id": "nJqht2Y-k7gT"
      },
      "execution_count": null,
      "outputs": []
    },
    {
      "cell_type": "code",
      "source": [
        "test_data=test_data.drop('Prv_HealthCov',axis=1)"
      ],
      "metadata": {
        "id": "MwrmXZSylDRu"
      },
      "execution_count": null,
      "outputs": []
    },
    {
      "cell_type": "code",
      "source": [
        "test_data=test_data.drop('16+_Employed',axis=1)"
      ],
      "metadata": {
        "id": "ANluZExelDOv"
      },
      "execution_count": null,
      "outputs": []
    },
    {
      "cell_type": "code",
      "source": [
        "test_data=test_data.drop('Location',axis=1)"
      ],
      "metadata": {
        "id": "2LDQitmIlDMK"
      },
      "execution_count": null,
      "outputs": []
    },
    {
      "cell_type": "code",
      "source": [
        "# test_data=test_data.drop('Gov_HealthCov_Alone',axis=1)"
      ],
      "metadata": {
        "id": "yIL6EXNF7Msm"
      },
      "execution_count": null,
      "outputs": []
    },
    {
      "cell_type": "code",
      "source": [
        "# test_data=test_data.drop('Edu_less_HS',axis=1)"
      ],
      "metadata": {
        "id": "euDQpE-0s62F"
      },
      "execution_count": null,
      "outputs": []
    },
    {
      "cell_type": "code",
      "source": [
        "from sklearn.decomposition import PCA \n",
        "pca=PCA() \n",
        "pca.fit_transform(X_train)  \n",
        "pca.fit_transform(y_train)"
      ],
      "metadata": {
        "colab": {
          "base_uri": "https://localhost:8080/",
          "height": 413
        },
        "id": "qzaimjSkesZY",
        "outputId": "e32fb570-8c01-4b0a-8396-aaa5e85517aa"
      },
      "execution_count": null,
      "outputs": [
        {
          "output_type": "error",
          "ename": "ValueError",
          "evalue": "ignored",
          "traceback": [
            "\u001b[0;31m---------------------------------------------------------------------------\u001b[0m",
            "\u001b[0;31mValueError\u001b[0m                                Traceback (most recent call last)",
            "\u001b[0;32m<ipython-input-748-17d7b5eed3de>\u001b[0m in \u001b[0;36m<module>\u001b[0;34m()\u001b[0m\n\u001b[1;32m      2\u001b[0m \u001b[0mpca\u001b[0m\u001b[0;34m=\u001b[0m\u001b[0mPCA\u001b[0m\u001b[0;34m(\u001b[0m\u001b[0;34m)\u001b[0m\u001b[0;34m\u001b[0m\u001b[0;34m\u001b[0m\u001b[0m\n\u001b[1;32m      3\u001b[0m \u001b[0mpca\u001b[0m\u001b[0;34m.\u001b[0m\u001b[0mfit_transform\u001b[0m\u001b[0;34m(\u001b[0m\u001b[0mX_train\u001b[0m\u001b[0;34m)\u001b[0m\u001b[0;34m\u001b[0m\u001b[0;34m\u001b[0m\u001b[0m\n\u001b[0;32m----> 4\u001b[0;31m \u001b[0mpca\u001b[0m\u001b[0;34m.\u001b[0m\u001b[0mfit_transform\u001b[0m\u001b[0;34m(\u001b[0m\u001b[0my_train\u001b[0m\u001b[0;34m)\u001b[0m\u001b[0;34m\u001b[0m\u001b[0;34m\u001b[0m\u001b[0m\n\u001b[0m",
            "\u001b[0;32m/usr/local/lib/python3.7/dist-packages/sklearn/decomposition/_pca.py\u001b[0m in \u001b[0;36mfit_transform\u001b[0;34m(self, X, y)\u001b[0m\n\u001b[1;32m    405\u001b[0m         \u001b[0mC\u001b[0m\u001b[0;34m-\u001b[0m\u001b[0mordered\u001b[0m \u001b[0marray\u001b[0m\u001b[0;34m,\u001b[0m \u001b[0muse\u001b[0m \u001b[0;34m'np.ascontiguousarray'\u001b[0m\u001b[0;34m.\u001b[0m\u001b[0;34m\u001b[0m\u001b[0;34m\u001b[0m\u001b[0m\n\u001b[1;32m    406\u001b[0m         \"\"\"\n\u001b[0;32m--> 407\u001b[0;31m         \u001b[0mU\u001b[0m\u001b[0;34m,\u001b[0m \u001b[0mS\u001b[0m\u001b[0;34m,\u001b[0m \u001b[0mVt\u001b[0m \u001b[0;34m=\u001b[0m \u001b[0mself\u001b[0m\u001b[0;34m.\u001b[0m\u001b[0m_fit\u001b[0m\u001b[0;34m(\u001b[0m\u001b[0mX\u001b[0m\u001b[0;34m)\u001b[0m\u001b[0;34m\u001b[0m\u001b[0;34m\u001b[0m\u001b[0m\n\u001b[0m\u001b[1;32m    408\u001b[0m         \u001b[0mU\u001b[0m \u001b[0;34m=\u001b[0m \u001b[0mU\u001b[0m\u001b[0;34m[\u001b[0m\u001b[0;34m:\u001b[0m\u001b[0;34m,\u001b[0m \u001b[0;34m:\u001b[0m \u001b[0mself\u001b[0m\u001b[0;34m.\u001b[0m\u001b[0mn_components_\u001b[0m\u001b[0;34m]\u001b[0m\u001b[0;34m\u001b[0m\u001b[0;34m\u001b[0m\u001b[0m\n\u001b[1;32m    409\u001b[0m \u001b[0;34m\u001b[0m\u001b[0m\n",
            "\u001b[0;32m/usr/local/lib/python3.7/dist-packages/sklearn/decomposition/_pca.py\u001b[0m in \u001b[0;36m_fit\u001b[0;34m(self, X)\u001b[0m\n\u001b[1;32m    429\u001b[0m \u001b[0;34m\u001b[0m\u001b[0m\n\u001b[1;32m    430\u001b[0m         X = self._validate_data(\n\u001b[0;32m--> 431\u001b[0;31m             \u001b[0mX\u001b[0m\u001b[0;34m,\u001b[0m \u001b[0mdtype\u001b[0m\u001b[0;34m=\u001b[0m\u001b[0;34m[\u001b[0m\u001b[0mnp\u001b[0m\u001b[0;34m.\u001b[0m\u001b[0mfloat64\u001b[0m\u001b[0;34m,\u001b[0m \u001b[0mnp\u001b[0m\u001b[0;34m.\u001b[0m\u001b[0mfloat32\u001b[0m\u001b[0;34m]\u001b[0m\u001b[0;34m,\u001b[0m \u001b[0mensure_2d\u001b[0m\u001b[0;34m=\u001b[0m\u001b[0;32mTrue\u001b[0m\u001b[0;34m,\u001b[0m \u001b[0mcopy\u001b[0m\u001b[0;34m=\u001b[0m\u001b[0mself\u001b[0m\u001b[0;34m.\u001b[0m\u001b[0mcopy\u001b[0m\u001b[0;34m\u001b[0m\u001b[0;34m\u001b[0m\u001b[0m\n\u001b[0m\u001b[1;32m    432\u001b[0m         )\n\u001b[1;32m    433\u001b[0m \u001b[0;34m\u001b[0m\u001b[0m\n",
            "\u001b[0;32m/usr/local/lib/python3.7/dist-packages/sklearn/base.py\u001b[0m in \u001b[0;36m_validate_data\u001b[0;34m(self, X, y, reset, validate_separately, **check_params)\u001b[0m\n\u001b[1;32m    559\u001b[0m             \u001b[0;32mraise\u001b[0m \u001b[0mValueError\u001b[0m\u001b[0;34m(\u001b[0m\u001b[0;34m\"Validation should be done on X, y or both.\"\u001b[0m\u001b[0;34m)\u001b[0m\u001b[0;34m\u001b[0m\u001b[0;34m\u001b[0m\u001b[0m\n\u001b[1;32m    560\u001b[0m         \u001b[0;32melif\u001b[0m \u001b[0;32mnot\u001b[0m \u001b[0mno_val_X\u001b[0m \u001b[0;32mand\u001b[0m \u001b[0mno_val_y\u001b[0m\u001b[0;34m:\u001b[0m\u001b[0;34m\u001b[0m\u001b[0;34m\u001b[0m\u001b[0m\n\u001b[0;32m--> 561\u001b[0;31m             \u001b[0mX\u001b[0m \u001b[0;34m=\u001b[0m \u001b[0mcheck_array\u001b[0m\u001b[0;34m(\u001b[0m\u001b[0mX\u001b[0m\u001b[0;34m,\u001b[0m \u001b[0;34m**\u001b[0m\u001b[0mcheck_params\u001b[0m\u001b[0;34m)\u001b[0m\u001b[0;34m\u001b[0m\u001b[0;34m\u001b[0m\u001b[0m\n\u001b[0m\u001b[1;32m    562\u001b[0m             \u001b[0mout\u001b[0m \u001b[0;34m=\u001b[0m \u001b[0mX\u001b[0m\u001b[0;34m\u001b[0m\u001b[0;34m\u001b[0m\u001b[0m\n\u001b[1;32m    563\u001b[0m         \u001b[0;32melif\u001b[0m \u001b[0mno_val_X\u001b[0m \u001b[0;32mand\u001b[0m \u001b[0;32mnot\u001b[0m \u001b[0mno_val_y\u001b[0m\u001b[0;34m:\u001b[0m\u001b[0;34m\u001b[0m\u001b[0;34m\u001b[0m\u001b[0m\n",
            "\u001b[0;32m/usr/local/lib/python3.7/dist-packages/sklearn/utils/validation.py\u001b[0m in \u001b[0;36mcheck_array\u001b[0;34m(array, accept_sparse, accept_large_sparse, dtype, order, copy, force_all_finite, ensure_2d, allow_nd, ensure_min_samples, ensure_min_features, estimator)\u001b[0m\n\u001b[1;32m    763\u001b[0m                     \u001b[0;34m\"Reshape your data either using array.reshape(-1, 1) if \"\u001b[0m\u001b[0;34m\u001b[0m\u001b[0;34m\u001b[0m\u001b[0m\n\u001b[1;32m    764\u001b[0m                     \u001b[0;34m\"your data has a single feature or array.reshape(1, -1) \"\u001b[0m\u001b[0;34m\u001b[0m\u001b[0;34m\u001b[0m\u001b[0m\n\u001b[0;32m--> 765\u001b[0;31m                     \u001b[0;34m\"if it contains a single sample.\"\u001b[0m\u001b[0;34m.\u001b[0m\u001b[0mformat\u001b[0m\u001b[0;34m(\u001b[0m\u001b[0marray\u001b[0m\u001b[0;34m)\u001b[0m\u001b[0;34m\u001b[0m\u001b[0;34m\u001b[0m\u001b[0m\n\u001b[0m\u001b[1;32m    766\u001b[0m                 )\n\u001b[1;32m    767\u001b[0m \u001b[0;34m\u001b[0m\u001b[0m\n",
            "\u001b[0;31mValueError\u001b[0m: Expected 2D array, got 1D array instead:\narray=[169.9 162.8 197.9 ... 218.3 154.1 180.7].\nReshape your data either using array.reshape(-1, 1) if your data has a single feature or array.reshape(1, -1) if it contains a single sample."
          ]
        }
      ]
    },
    {
      "cell_type": "code",
      "source": [
        "from sklearn.ensemble import RandomForestRegressor,HistGradientBoostingRegressor\n",
        "from xgboost import XGBRegressor\n",
        "from sklearn.ensemble import StackingRegressor\n",
        "from sklearn.neighbors import KNeighborsRegressor\n",
        "from sklearn.tree import DecisionTreeRegressor\n",
        "from sklearn.ensemble import BaggingRegressor,AdaBoostRegressor,GradientBoostingRegressor\n",
        "from catboost import CatBoostRegressor\n",
        "from sklearn.linear_model import LinearRegression\n",
        "import lightgbm as lgb\n",
        "from sklearn.linear_model import ARDRegression\n",
        "from sklearn.tree import DecisionTreeRegressor\n",
        "level0 = list()\n",
        "level0.append(('rf', RandomForestRegressor(n_estimators=200,ccp_alpha=0.007,random_state=42)))\n",
        "level0.append(('xgb', XGBRegressor(random_state=42,gamma=7.0)))\n",
        "level0.append(('hgb', HistGradientBoostingRegressor(random_state=42)))\n",
        "# level0.append(('knn',KNeighborsRegressor()))\n",
        "level0.append(('abr',AdaBoostRegressor(random_state=0)))\n",
        "level0.append(('gbr',GradientBoostingRegressor(random_state=0)))\n",
        "level0.append(('lr',LinearRegression()))\n",
        "# level0.append(('ard',ARDRegression()))\n",
        "level0.append(('lgr',lgb.LGBMRegressor()))\n",
        "level0.append(('mod',model1))\n",
        "\n",
        "level1 = XGBRegressor()\n",
        "model = StackingRegressor(estimators=level0, final_estimator=level1, cv=4)\n",
        "# fit the model on all available data\n",
        "model.fit(X_train, y_train)"
      ],
      "metadata": {
        "colab": {
          "base_uri": "https://localhost:8080/"
        },
        "id": "2KsPt5IzfFCV",
        "outputId": "f47e580f-5006-4de2-a377-0f4456cf720a"
      },
      "execution_count": null,
      "outputs": [
        {
          "output_type": "stream",
          "name": "stdout",
          "text": [
            "[12:07:27] WARNING: /workspace/src/objective/regression_obj.cu:152: reg:linear is now deprecated in favor of reg:squarederror.\n",
            "[12:07:46] WARNING: /workspace/src/objective/regression_obj.cu:152: reg:linear is now deprecated in favor of reg:squarederror.\n",
            "[12:07:47] WARNING: /workspace/src/objective/regression_obj.cu:152: reg:linear is now deprecated in favor of reg:squarederror.\n",
            "[12:07:47] WARNING: /workspace/src/objective/regression_obj.cu:152: reg:linear is now deprecated in favor of reg:squarederror.\n",
            "[12:07:47] WARNING: /workspace/src/objective/regression_obj.cu:152: reg:linear is now deprecated in favor of reg:squarederror.\n",
            "[12:08:13] WARNING: /workspace/src/objective/regression_obj.cu:152: reg:linear is now deprecated in favor of reg:squarederror.\n"
          ]
        },
        {
          "output_type": "execute_result",
          "data": {
            "text/plain": [
              "StackingRegressor(cv=4,\n",
              "                  estimators=[('rf',\n",
              "                               RandomForestRegressor(ccp_alpha=0.007,\n",
              "                                                     n_estimators=200,\n",
              "                                                     random_state=42)),\n",
              "                              ('xgb', XGBRegressor(gamma=7.0, random_state=42)),\n",
              "                              ('hgb',\n",
              "                               HistGradientBoostingRegressor(random_state=42)),\n",
              "                              ('abr', AdaBoostRegressor(random_state=0)),\n",
              "                              ('gbr',\n",
              "                               GradientBoostingRegressor(random_state=0)),\n",
              "                              ('lr', LinearRegression()),\n",
              "                              ('lgr', LGBMRegressor()),\n",
              "                              ('mod',\n",
              "                               RandomForestRegressor(ccp_alpha=0.007,\n",
              "                                                     n_estimators=400,\n",
              "                                                     random_state=42))],\n",
              "                  final_estimator=XGBRegressor())"
            ]
          },
          "metadata": {},
          "execution_count": 749
        }
      ]
    },
    {
      "cell_type": "code",
      "source": [
        "model.score(X_test,y_test)"
      ],
      "metadata": {
        "colab": {
          "base_uri": "https://localhost:8080/"
        },
        "id": "EFPz--_Bf19P",
        "outputId": "41c4514c-598b-4bd0-b525-0ecda0bdddd4"
      },
      "execution_count": null,
      "outputs": [
        {
          "output_type": "execute_result",
          "data": {
            "text/plain": [
              "0.3501907587221246"
            ]
          },
          "metadata": {},
          "execution_count": 750
        }
      ]
    },
    {
      "cell_type": "code",
      "source": [
        "from sklearn.ensemble import RandomForestRegressor\n",
        "from sklearn.model_selection import RandomizedSearchCV,GridSearchCV\n",
        "model1=RandomForestRegressor(n_estimators=400,ccp_alpha=0.007,random_state=42)\n",
        "model1.fit(X_train,y_train)"
      ],
      "metadata": {
        "colab": {
          "base_uri": "https://localhost:8080/"
        },
        "id": "uDNIXOAA0VeW",
        "outputId": "64816b69-f708-484c-f06d-24f0df2d18db"
      },
      "execution_count": null,
      "outputs": [
        {
          "output_type": "execute_result",
          "data": {
            "text/plain": [
              "RandomForestRegressor(ccp_alpha=0.007, n_estimators=400, random_state=42)"
            ]
          },
          "metadata": {},
          "execution_count": 751
        }
      ]
    },
    {
      "cell_type": "code",
      "source": [
        "from xgboost import XGBRegressor\n",
        "xgb_model=XGBRegressor(gamma=4.0,n_estimators=300,min_child_weight=9)\n",
        "xgb_model.fit(X_train,y_train)"
      ],
      "metadata": {
        "colab": {
          "base_uri": "https://localhost:8080/"
        },
        "id": "N5_Sdkat1fH0",
        "outputId": "d5104c94-5d2a-4861-ef21-d834ad126eab"
      },
      "execution_count": null,
      "outputs": [
        {
          "output_type": "stream",
          "name": "stdout",
          "text": [
            "[12:08:20] WARNING: /workspace/src/objective/regression_obj.cu:152: reg:linear is now deprecated in favor of reg:squarederror.\n"
          ]
        },
        {
          "output_type": "execute_result",
          "data": {
            "text/plain": [
              "XGBRegressor(gamma=4.0, min_child_weight=9, n_estimators=300)"
            ]
          },
          "metadata": {},
          "execution_count": 752
        }
      ]
    },
    {
      "cell_type": "code",
      "source": [
        "xgb_model.score(X_test,y_test)"
      ],
      "metadata": {
        "colab": {
          "base_uri": "https://localhost:8080/"
        },
        "id": "6PDKUAgQ2M9R",
        "outputId": "641d6ca0-df98-4bf7-ef96-772b120d7e70"
      },
      "execution_count": null,
      "outputs": [
        {
          "output_type": "execute_result",
          "data": {
            "text/plain": [
              "0.4147019298251732"
            ]
          },
          "metadata": {},
          "execution_count": 753
        }
      ]
    },
    {
      "cell_type": "code",
      "source": [
        "hgb_model=HistGradientBoostingRegressor()\n",
        "hgb_params={'learning_rate':[0.1,0.01,0.001,0.0001],\n",
        "            'loss':['squared_error', 'absolute_error'],\n",
        "            'max_depth':[8,16,32,64],\n",
        "            'l2_regularization':[2,4,6],\n",
        "            'max_leaf_nodes':[31,41],\n",
        "            # 'warm_start':[Tr],\n",
        "            'min_samples_leaf':[20,40,60,80]}\n",
        "            # 'n_estimators':[100,200,300],}\n",
        "            # 'subsample':[1.0,2.0,3.0],\n",
        "            # 'criterion':['squared_error', 'mse', 'mae']}\n",
        "\n",
        "hgb_cv= GridSearchCV(estimator=hgb_model, param_grid=hgb_params, cv =3,verbose=2)\n",
        "\n",
        "# hgb_cv.fit(X_train,y_train)"
      ],
      "metadata": {
        "id": "uBU5RBhh7l9P"
      },
      "execution_count": null,
      "outputs": []
    },
    {
      "cell_type": "code",
      "source": [
        "# hgb_cv.score(X_test,y_test)"
      ],
      "metadata": {
        "id": "hnzlFRkr7lsE"
      },
      "execution_count": null,
      "outputs": []
    },
    {
      "cell_type": "code",
      "source": [
        "from sklearn.ensemble import RandomForestRegressor,HistGradientBoostingRegressor\n",
        "from xgboost import XGBRegressor\n",
        "from sklearn.ensemble import StackingRegressor\n",
        "from sklearn.neighbors import KNeighborsRegressor\n",
        "from sklearn.tree import DecisionTreeRegressor\n",
        "from sklearn.ensemble import BaggingRegressor,AdaBoostRegressor,GradientBoostingRegressor\n",
        "from catboost import CatBoostRegressor\n",
        "from sklearn.linear_model import LinearRegression\n",
        "import lightgbm as lgb\n",
        "\n",
        "\n",
        "level0 = list()\n",
        "level0.append(('rf', RandomForestRegressor(n_estimators=200,ccp_alpha=0.007,max_features=10,random_state=42)))\n",
        "level0.append(('xgb', XGBRegressor(random_state=42,gamma=7.0)))\n",
        "level0.append(('hgb', HistGradientBoostingRegressor(random_state=42)))\n",
        "level0.append(('knn',KNeighborsRegressor()))\n",
        "level0.append(('abr',AdaBoostRegressor(random_state=42)))\n",
        "level0.append(('gbr',GradientBoostingRegressor(random_state=42)))\n",
        "level0.append(('lr',LinearRegression()))\n",
        "level0.append(('lgr',lgb.LGBMRegressor()))\n",
        "# level0.append(('br',BaggingRegressor(random_state=42,n_estimators=200)))\n",
        "# level0.append(('mod',model1))\n",
        "level0.append(('mod2',xgb_model))\n",
        "# level0.append(('mod3',hgb_cv))\n",
        "\n",
        "\n",
        "level1 = XGBRegressor()\n",
        "model2 = StackingRegressor(estimators=level0, final_estimator=level1, cv=4)\n",
        "# fit the model on all available data\n",
        "model2.fit(X_train, y_train)"
      ],
      "metadata": {
        "colab": {
          "base_uri": "https://localhost:8080/"
        },
        "id": "5zhgu7kNf8Uj",
        "outputId": "25bf3fab-4232-41b6-afb7-61f8c9b8d66f"
      },
      "execution_count": null,
      "outputs": [
        {
          "output_type": "stream",
          "name": "stdout",
          "text": [
            "[12:08:22] WARNING: /workspace/src/objective/regression_obj.cu:152: reg:linear is now deprecated in favor of reg:squarederror.\n",
            "[12:08:24] WARNING: /workspace/src/objective/regression_obj.cu:152: reg:linear is now deprecated in favor of reg:squarederror.\n",
            "[12:08:31] WARNING: /workspace/src/objective/regression_obj.cu:152: reg:linear is now deprecated in favor of reg:squarederror.\n",
            "[12:08:31] WARNING: /workspace/src/objective/regression_obj.cu:152: reg:linear is now deprecated in favor of reg:squarederror.\n",
            "[12:08:31] WARNING: /workspace/src/objective/regression_obj.cu:152: reg:linear is now deprecated in favor of reg:squarederror.\n",
            "[12:08:31] WARNING: /workspace/src/objective/regression_obj.cu:152: reg:linear is now deprecated in favor of reg:squarederror.\n",
            "[12:08:37] WARNING: /workspace/src/objective/regression_obj.cu:152: reg:linear is now deprecated in favor of reg:squarederror.\n",
            "[12:08:38] WARNING: /workspace/src/objective/regression_obj.cu:152: reg:linear is now deprecated in favor of reg:squarederror.\n",
            "[12:08:38] WARNING: /workspace/src/objective/regression_obj.cu:152: reg:linear is now deprecated in favor of reg:squarederror.\n",
            "[12:08:38] WARNING: /workspace/src/objective/regression_obj.cu:152: reg:linear is now deprecated in favor of reg:squarederror.\n",
            "[12:08:39] WARNING: /workspace/src/objective/regression_obj.cu:152: reg:linear is now deprecated in favor of reg:squarederror.\n"
          ]
        },
        {
          "output_type": "execute_result",
          "data": {
            "text/plain": [
              "StackingRegressor(cv=4,\n",
              "                  estimators=[('rf',\n",
              "                               RandomForestRegressor(ccp_alpha=0.007,\n",
              "                                                     max_features=10,\n",
              "                                                     n_estimators=200,\n",
              "                                                     random_state=42)),\n",
              "                              ('xgb', XGBRegressor(gamma=7.0, random_state=42)),\n",
              "                              ('hgb',\n",
              "                               HistGradientBoostingRegressor(random_state=42)),\n",
              "                              ('knn', KNeighborsRegressor()),\n",
              "                              ('abr', AdaBoostRegressor(random_state=42)),\n",
              "                              ('gbr',\n",
              "                               GradientBoostingRegressor(random_state=42)),\n",
              "                              ('lr', LinearRegression()),\n",
              "                              ('lgr', LGBMRegressor()),\n",
              "                              ('mod2',\n",
              "                               XGBRegressor(gamma=4.0, min_child_weight=9,\n",
              "                                            n_estimators=300))],\n",
              "                  final_estimator=XGBRegressor())"
            ]
          },
          "metadata": {},
          "execution_count": 756
        }
      ]
    },
    {
      "cell_type": "code",
      "source": [
        "model2.score(X_test,y_test)"
      ],
      "metadata": {
        "colab": {
          "base_uri": "https://localhost:8080/"
        },
        "id": "hLsZ8-MYrsWB",
        "outputId": "88a8dec6-3918-49fc-c667-4b1a65958c34"
      },
      "execution_count": null,
      "outputs": [
        {
          "output_type": "execute_result",
          "data": {
            "text/plain": [
              "0.3504288908259111"
            ]
          },
          "metadata": {},
          "execution_count": 757
        }
      ]
    },
    {
      "cell_type": "code",
      "source": [
        "from sklearn.ensemble import RandomForestRegressor,HistGradientBoostingRegressor\n",
        "from xgboost import XGBRegressor\n",
        "from sklearn.ensemble import StackingRegressor\n",
        "from sklearn.neighbors import KNeighborsRegressor\n",
        "from sklearn.tree import DecisionTreeRegressor\n",
        "from sklearn.ensemble import BaggingRegressor,AdaBoostRegressor,GradientBoostingRegressor\n",
        "from catboost import CatBoostRegressor\n",
        "from sklearn.linear_model import LinearRegression\n",
        "import lightgbm as lgb\n",
        "\n",
        "\n",
        "level0 = list()\n",
        "level0.append(('rf', RandomForestRegressor(n_estimators=800,ccp_alpha=0.007,random_state=42)))\n",
        "level0.append(('xgb', XGBRegressor(random_state=42,gamma=7.0,n_estimators=600)))\n",
        "level0.append(('hgb', HistGradientBoostingRegressor(random_state=42,learning_rate=0.01)))\n",
        "# level0.append(('knn',KNeighborsRegressor()))\n",
        "level0.append(('abr',AdaBoostRegressor(n_estimators=100,random_state=42)))\n",
        "# level0.append(('gbr',GradientBoostingRegressor(random_state=42,min_weight_fraction_leaf=0.4)))\n",
        "level0.append(('lr',LinearRegression(copy_X=False)))\n",
        "level0.append(('mod1',model1))\n",
        "level0.append(('mod2',xgb_model))\n",
        "\n",
        "# level0.append(('br',BaggingRegressor(random_state=42,n_estimators=200)))\n",
        "\n",
        "level1 =XGBRegressor()\n",
        "model3 = StackingRegressor(estimators=level0, final_estimator=level1, cv=4)\n",
        "# fit the model on all available data\n",
        "model3.fit(X_train, y_train)"
      ],
      "metadata": {
        "colab": {
          "base_uri": "https://localhost:8080/"
        },
        "id": "nK5_cCeRr3PS",
        "outputId": "61cdf7fa-8b03-448f-ae74-d02580ce0df7"
      },
      "execution_count": null,
      "outputs": [
        {
          "output_type": "stream",
          "name": "stdout",
          "text": [
            "[12:08:53] WARNING: /workspace/src/objective/regression_obj.cu:152: reg:linear is now deprecated in favor of reg:squarederror.\n",
            "[12:09:02] WARNING: /workspace/src/objective/regression_obj.cu:152: reg:linear is now deprecated in favor of reg:squarederror.\n",
            "[12:09:42] WARNING: /workspace/src/objective/regression_obj.cu:152: reg:linear is now deprecated in favor of reg:squarederror.\n",
            "[12:09:43] WARNING: /workspace/src/objective/regression_obj.cu:152: reg:linear is now deprecated in favor of reg:squarederror.\n",
            "[12:09:44] WARNING: /workspace/src/objective/regression_obj.cu:152: reg:linear is now deprecated in favor of reg:squarederror.\n",
            "[12:09:45] WARNING: /workspace/src/objective/regression_obj.cu:152: reg:linear is now deprecated in favor of reg:squarederror.\n",
            "[12:10:09] WARNING: /workspace/src/objective/regression_obj.cu:152: reg:linear is now deprecated in favor of reg:squarederror.\n",
            "[12:10:09] WARNING: /workspace/src/objective/regression_obj.cu:152: reg:linear is now deprecated in favor of reg:squarederror.\n",
            "[12:10:10] WARNING: /workspace/src/objective/regression_obj.cu:152: reg:linear is now deprecated in favor of reg:squarederror.\n",
            "[12:10:10] WARNING: /workspace/src/objective/regression_obj.cu:152: reg:linear is now deprecated in favor of reg:squarederror.\n",
            "[12:10:11] WARNING: /workspace/src/objective/regression_obj.cu:152: reg:linear is now deprecated in favor of reg:squarederror.\n"
          ]
        },
        {
          "output_type": "execute_result",
          "data": {
            "text/plain": [
              "StackingRegressor(cv=4,\n",
              "                  estimators=[('rf',\n",
              "                               RandomForestRegressor(ccp_alpha=0.007,\n",
              "                                                     n_estimators=800,\n",
              "                                                     random_state=42)),\n",
              "                              ('xgb',\n",
              "                               XGBRegressor(gamma=7.0, n_estimators=600,\n",
              "                                            random_state=42)),\n",
              "                              ('hgb',\n",
              "                               HistGradientBoostingRegressor(learning_rate=0.01,\n",
              "                                                             random_state=42)),\n",
              "                              ('abr',\n",
              "                               AdaBoostRegressor(n_estimators=100,\n",
              "                                                 random_state=42)),\n",
              "                              ('lr', LinearRegression(copy_X=False)),\n",
              "                              ('mod1',\n",
              "                               RandomForestRegressor(ccp_alpha=0.007,\n",
              "                                                     n_estimators=400,\n",
              "                                                     random_state=42)),\n",
              "                              ('mod2',\n",
              "                               XGBRegressor(gamma=4.0, min_child_weight=9,\n",
              "                                            n_estimators=300))],\n",
              "                  final_estimator=XGBRegressor())"
            ]
          },
          "metadata": {},
          "execution_count": 758
        }
      ]
    },
    {
      "cell_type": "code",
      "source": [
        "model3.score(X_test,y_test)"
      ],
      "metadata": {
        "colab": {
          "base_uri": "https://localhost:8080/"
        },
        "id": "uZgYy5qer_cH",
        "outputId": "6fb34843-4062-4b31-ec38-e1370c89d25b"
      },
      "execution_count": null,
      "outputs": [
        {
          "output_type": "execute_result",
          "data": {
            "text/plain": [
              "0.3556752346263521"
            ]
          },
          "metadata": {},
          "execution_count": 759
        }
      ]
    },
    {
      "cell_type": "code",
      "source": [
        "kaggle_df2=pd.DataFrame()"
      ],
      "metadata": {
        "id": "WhKnACWisKrE"
      },
      "execution_count": null,
      "outputs": []
    },
    {
      "cell_type": "code",
      "source": [
        "kaggle_pred2=model2.predict(test_data)\n",
        "kaggle_pred2[:10]"
      ],
      "metadata": {
        "colab": {
          "base_uri": "https://localhost:8080/",
          "height": 596
        },
        "id": "I8wmO2zHsuCX",
        "outputId": "457b2dda-4a59-4969-d0c2-693a9eaa7f36"
      },
      "execution_count": null,
      "outputs": [
        {
          "output_type": "stream",
          "name": "stderr",
          "text": [
            "/usr/local/lib/python3.7/dist-packages/sklearn/base.py:488: FutureWarning: The feature names should match those that were passed during fit. Starting version 1.2, an error will be raised.\n",
            "Feature names unseen at fit time:\n",
            "- Prv_Public_HealthCov\n",
            "Feature names seen at fit time, yet now missing:\n",
            "- Prv_HealthCov\n",
            "\n",
            "  warnings.warn(message, FutureWarning)\n"
          ]
        },
        {
          "output_type": "error",
          "ename": "ValueError",
          "evalue": "ignored",
          "traceback": [
            "\u001b[0;31m---------------------------------------------------------------------------\u001b[0m",
            "\u001b[0;31mValueError\u001b[0m                                Traceback (most recent call last)",
            "\u001b[0;32m<ipython-input-761-5777d54dfe32>\u001b[0m in \u001b[0;36m<module>\u001b[0;34m()\u001b[0m\n\u001b[0;32m----> 1\u001b[0;31m \u001b[0mkaggle_pred2\u001b[0m\u001b[0;34m=\u001b[0m\u001b[0mmodel2\u001b[0m\u001b[0;34m.\u001b[0m\u001b[0mpredict\u001b[0m\u001b[0;34m(\u001b[0m\u001b[0mtest_data\u001b[0m\u001b[0;34m)\u001b[0m\u001b[0;34m\u001b[0m\u001b[0;34m\u001b[0m\u001b[0m\n\u001b[0m\u001b[1;32m      2\u001b[0m \u001b[0mkaggle_pred2\u001b[0m\u001b[0;34m[\u001b[0m\u001b[0;34m:\u001b[0m\u001b[0;36m10\u001b[0m\u001b[0;34m]\u001b[0m\u001b[0;34m\u001b[0m\u001b[0;34m\u001b[0m\u001b[0m\n",
            "\u001b[0;32m/usr/local/lib/python3.7/dist-packages/sklearn/utils/metaestimators.py\u001b[0m in \u001b[0;36m<lambda>\u001b[0;34m(*args, **kwargs)\u001b[0m\n\u001b[1;32m    111\u001b[0m \u001b[0;34m\u001b[0m\u001b[0m\n\u001b[1;32m    112\u001b[0m             \u001b[0;31m# lambda, but not partial, allows help() to work with update_wrapper\u001b[0m\u001b[0;34m\u001b[0m\u001b[0;34m\u001b[0m\u001b[0;34m\u001b[0m\u001b[0m\n\u001b[0;32m--> 113\u001b[0;31m             \u001b[0mout\u001b[0m \u001b[0;34m=\u001b[0m \u001b[0;32mlambda\u001b[0m \u001b[0;34m*\u001b[0m\u001b[0margs\u001b[0m\u001b[0;34m,\u001b[0m \u001b[0;34m**\u001b[0m\u001b[0mkwargs\u001b[0m\u001b[0;34m:\u001b[0m \u001b[0mself\u001b[0m\u001b[0;34m.\u001b[0m\u001b[0mfn\u001b[0m\u001b[0;34m(\u001b[0m\u001b[0mobj\u001b[0m\u001b[0;34m,\u001b[0m \u001b[0;34m*\u001b[0m\u001b[0margs\u001b[0m\u001b[0;34m,\u001b[0m \u001b[0;34m**\u001b[0m\u001b[0mkwargs\u001b[0m\u001b[0;34m)\u001b[0m  \u001b[0;31m# noqa\u001b[0m\u001b[0;34m\u001b[0m\u001b[0;34m\u001b[0m\u001b[0m\n\u001b[0m\u001b[1;32m    114\u001b[0m         \u001b[0;32melse\u001b[0m\u001b[0;34m:\u001b[0m\u001b[0;34m\u001b[0m\u001b[0;34m\u001b[0m\u001b[0m\n\u001b[1;32m    115\u001b[0m \u001b[0;34m\u001b[0m\u001b[0m\n",
            "\u001b[0;32m/usr/local/lib/python3.7/dist-packages/sklearn/ensemble/_stacking.py\u001b[0m in \u001b[0;36mpredict\u001b[0;34m(self, X, **predict_params)\u001b[0m\n\u001b[1;32m    265\u001b[0m \u001b[0;34m\u001b[0m\u001b[0m\n\u001b[1;32m    266\u001b[0m         \u001b[0mcheck_is_fitted\u001b[0m\u001b[0;34m(\u001b[0m\u001b[0mself\u001b[0m\u001b[0;34m)\u001b[0m\u001b[0;34m\u001b[0m\u001b[0;34m\u001b[0m\u001b[0m\n\u001b[0;32m--> 267\u001b[0;31m         \u001b[0;32mreturn\u001b[0m \u001b[0mself\u001b[0m\u001b[0;34m.\u001b[0m\u001b[0mfinal_estimator_\u001b[0m\u001b[0;34m.\u001b[0m\u001b[0mpredict\u001b[0m\u001b[0;34m(\u001b[0m\u001b[0mself\u001b[0m\u001b[0;34m.\u001b[0m\u001b[0mtransform\u001b[0m\u001b[0;34m(\u001b[0m\u001b[0mX\u001b[0m\u001b[0;34m)\u001b[0m\u001b[0;34m,\u001b[0m \u001b[0;34m**\u001b[0m\u001b[0mpredict_params\u001b[0m\u001b[0;34m)\u001b[0m\u001b[0;34m\u001b[0m\u001b[0;34m\u001b[0m\u001b[0m\n\u001b[0m\u001b[1;32m    268\u001b[0m \u001b[0;34m\u001b[0m\u001b[0m\n\u001b[1;32m    269\u001b[0m     \u001b[0;32mdef\u001b[0m \u001b[0m_sk_visual_block_\u001b[0m\u001b[0;34m(\u001b[0m\u001b[0mself\u001b[0m\u001b[0;34m,\u001b[0m \u001b[0mfinal_estimator\u001b[0m\u001b[0;34m)\u001b[0m\u001b[0;34m:\u001b[0m\u001b[0;34m\u001b[0m\u001b[0;34m\u001b[0m\u001b[0m\n",
            "\u001b[0;32m/usr/local/lib/python3.7/dist-packages/sklearn/ensemble/_stacking.py\u001b[0m in \u001b[0;36mtransform\u001b[0;34m(self, X)\u001b[0m\n\u001b[1;32m    769\u001b[0m             \u001b[0mPrediction\u001b[0m \u001b[0moutputs\u001b[0m \u001b[0;32mfor\u001b[0m \u001b[0meach\u001b[0m \u001b[0mestimator\u001b[0m\u001b[0;34m.\u001b[0m\u001b[0;34m\u001b[0m\u001b[0;34m\u001b[0m\u001b[0m\n\u001b[1;32m    770\u001b[0m         \"\"\"\n\u001b[0;32m--> 771\u001b[0;31m         \u001b[0;32mreturn\u001b[0m \u001b[0mself\u001b[0m\u001b[0;34m.\u001b[0m\u001b[0m_transform\u001b[0m\u001b[0;34m(\u001b[0m\u001b[0mX\u001b[0m\u001b[0;34m)\u001b[0m\u001b[0;34m\u001b[0m\u001b[0;34m\u001b[0m\u001b[0m\n\u001b[0m\u001b[1;32m    772\u001b[0m \u001b[0;34m\u001b[0m\u001b[0m\n\u001b[1;32m    773\u001b[0m     \u001b[0;32mdef\u001b[0m \u001b[0m_sk_visual_block_\u001b[0m\u001b[0;34m(\u001b[0m\u001b[0mself\u001b[0m\u001b[0;34m)\u001b[0m\u001b[0;34m:\u001b[0m\u001b[0;34m\u001b[0m\u001b[0;34m\u001b[0m\u001b[0m\n",
            "\u001b[0;32m/usr/local/lib/python3.7/dist-packages/sklearn/ensemble/_stacking.py\u001b[0m in \u001b[0;36m_transform\u001b[0;34m(self, X)\u001b[0m\n\u001b[1;32m    237\u001b[0m         predictions = [\n\u001b[1;32m    238\u001b[0m             \u001b[0mgetattr\u001b[0m\u001b[0;34m(\u001b[0m\u001b[0mest\u001b[0m\u001b[0;34m,\u001b[0m \u001b[0mmeth\u001b[0m\u001b[0;34m)\u001b[0m\u001b[0;34m(\u001b[0m\u001b[0mX\u001b[0m\u001b[0;34m)\u001b[0m\u001b[0;34m\u001b[0m\u001b[0;34m\u001b[0m\u001b[0m\n\u001b[0;32m--> 239\u001b[0;31m             \u001b[0;32mfor\u001b[0m \u001b[0mest\u001b[0m\u001b[0;34m,\u001b[0m \u001b[0mmeth\u001b[0m \u001b[0;32min\u001b[0m \u001b[0mzip\u001b[0m\u001b[0;34m(\u001b[0m\u001b[0mself\u001b[0m\u001b[0;34m.\u001b[0m\u001b[0mestimators_\u001b[0m\u001b[0;34m,\u001b[0m \u001b[0mself\u001b[0m\u001b[0;34m.\u001b[0m\u001b[0mstack_method_\u001b[0m\u001b[0;34m)\u001b[0m\u001b[0;34m\u001b[0m\u001b[0;34m\u001b[0m\u001b[0m\n\u001b[0m\u001b[1;32m    240\u001b[0m             \u001b[0;32mif\u001b[0m \u001b[0mest\u001b[0m \u001b[0;34m!=\u001b[0m \u001b[0;34m\"drop\"\u001b[0m\u001b[0;34m\u001b[0m\u001b[0;34m\u001b[0m\u001b[0m\n\u001b[1;32m    241\u001b[0m         ]\n",
            "\u001b[0;32m/usr/local/lib/python3.7/dist-packages/sklearn/ensemble/_stacking.py\u001b[0m in \u001b[0;36m<listcomp>\u001b[0;34m(.0)\u001b[0m\n\u001b[1;32m    238\u001b[0m             \u001b[0mgetattr\u001b[0m\u001b[0;34m(\u001b[0m\u001b[0mest\u001b[0m\u001b[0;34m,\u001b[0m \u001b[0mmeth\u001b[0m\u001b[0;34m)\u001b[0m\u001b[0;34m(\u001b[0m\u001b[0mX\u001b[0m\u001b[0;34m)\u001b[0m\u001b[0;34m\u001b[0m\u001b[0;34m\u001b[0m\u001b[0m\n\u001b[1;32m    239\u001b[0m             \u001b[0;32mfor\u001b[0m \u001b[0mest\u001b[0m\u001b[0;34m,\u001b[0m \u001b[0mmeth\u001b[0m \u001b[0;32min\u001b[0m \u001b[0mzip\u001b[0m\u001b[0;34m(\u001b[0m\u001b[0mself\u001b[0m\u001b[0;34m.\u001b[0m\u001b[0mestimators_\u001b[0m\u001b[0;34m,\u001b[0m \u001b[0mself\u001b[0m\u001b[0;34m.\u001b[0m\u001b[0mstack_method_\u001b[0m\u001b[0;34m)\u001b[0m\u001b[0;34m\u001b[0m\u001b[0;34m\u001b[0m\u001b[0m\n\u001b[0;32m--> 240\u001b[0;31m             \u001b[0;32mif\u001b[0m \u001b[0mest\u001b[0m \u001b[0;34m!=\u001b[0m \u001b[0;34m\"drop\"\u001b[0m\u001b[0;34m\u001b[0m\u001b[0;34m\u001b[0m\u001b[0m\n\u001b[0m\u001b[1;32m    241\u001b[0m         ]\n\u001b[1;32m    242\u001b[0m         \u001b[0;32mreturn\u001b[0m \u001b[0mself\u001b[0m\u001b[0;34m.\u001b[0m\u001b[0m_concatenate_predictions\u001b[0m\u001b[0;34m(\u001b[0m\u001b[0mX\u001b[0m\u001b[0;34m,\u001b[0m \u001b[0mpredictions\u001b[0m\u001b[0;34m)\u001b[0m\u001b[0;34m\u001b[0m\u001b[0;34m\u001b[0m\u001b[0m\n",
            "\u001b[0;32m/usr/local/lib/python3.7/dist-packages/xgboost/sklearn.py\u001b[0m in \u001b[0;36mpredict\u001b[0;34m(self, data, output_margin, ntree_limit, validate_features)\u001b[0m\n\u001b[1;32m    454\u001b[0m                                           \u001b[0moutput_margin\u001b[0m\u001b[0;34m=\u001b[0m\u001b[0moutput_margin\u001b[0m\u001b[0;34m,\u001b[0m\u001b[0;34m\u001b[0m\u001b[0;34m\u001b[0m\u001b[0m\n\u001b[1;32m    455\u001b[0m                                           \u001b[0mntree_limit\u001b[0m\u001b[0;34m=\u001b[0m\u001b[0mntree_limit\u001b[0m\u001b[0;34m,\u001b[0m\u001b[0;34m\u001b[0m\u001b[0;34m\u001b[0m\u001b[0m\n\u001b[0;32m--> 456\u001b[0;31m                                           validate_features=validate_features)\n\u001b[0m\u001b[1;32m    457\u001b[0m \u001b[0;34m\u001b[0m\u001b[0m\n\u001b[1;32m    458\u001b[0m     \u001b[0;32mdef\u001b[0m \u001b[0mapply\u001b[0m\u001b[0;34m(\u001b[0m\u001b[0mself\u001b[0m\u001b[0;34m,\u001b[0m \u001b[0mX\u001b[0m\u001b[0;34m,\u001b[0m \u001b[0mntree_limit\u001b[0m\u001b[0;34m=\u001b[0m\u001b[0;36m0\u001b[0m\u001b[0;34m)\u001b[0m\u001b[0;34m:\u001b[0m\u001b[0;34m\u001b[0m\u001b[0;34m\u001b[0m\u001b[0m\n",
            "\u001b[0;32m/usr/local/lib/python3.7/dist-packages/xgboost/core.py\u001b[0m in \u001b[0;36mpredict\u001b[0;34m(self, data, output_margin, ntree_limit, pred_leaf, pred_contribs, approx_contribs, pred_interactions, validate_features)\u001b[0m\n\u001b[1;32m   1282\u001b[0m \u001b[0;34m\u001b[0m\u001b[0m\n\u001b[1;32m   1283\u001b[0m         \u001b[0;32mif\u001b[0m \u001b[0mvalidate_features\u001b[0m\u001b[0;34m:\u001b[0m\u001b[0;34m\u001b[0m\u001b[0;34m\u001b[0m\u001b[0m\n\u001b[0;32m-> 1284\u001b[0;31m             \u001b[0mself\u001b[0m\u001b[0;34m.\u001b[0m\u001b[0m_validate_features\u001b[0m\u001b[0;34m(\u001b[0m\u001b[0mdata\u001b[0m\u001b[0;34m)\u001b[0m\u001b[0;34m\u001b[0m\u001b[0;34m\u001b[0m\u001b[0m\n\u001b[0m\u001b[1;32m   1285\u001b[0m \u001b[0;34m\u001b[0m\u001b[0m\n\u001b[1;32m   1286\u001b[0m         \u001b[0mlength\u001b[0m \u001b[0;34m=\u001b[0m \u001b[0mc_bst_ulong\u001b[0m\u001b[0;34m(\u001b[0m\u001b[0;34m)\u001b[0m\u001b[0;34m\u001b[0m\u001b[0;34m\u001b[0m\u001b[0m\n",
            "\u001b[0;32m/usr/local/lib/python3.7/dist-packages/xgboost/core.py\u001b[0m in \u001b[0;36m_validate_features\u001b[0;34m(self, data)\u001b[0m\n\u001b[1;32m   1688\u001b[0m \u001b[0;34m\u001b[0m\u001b[0m\n\u001b[1;32m   1689\u001b[0m                 raise ValueError(msg.format(self.feature_names,\n\u001b[0;32m-> 1690\u001b[0;31m                                             data.feature_names))\n\u001b[0m\u001b[1;32m   1691\u001b[0m \u001b[0;34m\u001b[0m\u001b[0m\n\u001b[1;32m   1692\u001b[0m     \u001b[0;32mdef\u001b[0m \u001b[0mget_split_value_histogram\u001b[0m\u001b[0;34m(\u001b[0m\u001b[0mself\u001b[0m\u001b[0;34m,\u001b[0m \u001b[0mfeature\u001b[0m\u001b[0;34m,\u001b[0m \u001b[0mfmap\u001b[0m\u001b[0;34m=\u001b[0m\u001b[0;34m''\u001b[0m\u001b[0;34m,\u001b[0m \u001b[0mbins\u001b[0m\u001b[0;34m=\u001b[0m\u001b[0;32mNone\u001b[0m\u001b[0;34m,\u001b[0m \u001b[0mas_pandas\u001b[0m\u001b[0;34m=\u001b[0m\u001b[0;32mTrue\u001b[0m\u001b[0;34m)\u001b[0m\u001b[0;34m:\u001b[0m\u001b[0;34m\u001b[0m\u001b[0;34m\u001b[0m\u001b[0m\n",
            "\u001b[0;31mValueError\u001b[0m: feature_names mismatch: ['ID', 'RateOfIncidence', 'Income', 'Poverty%', 'Age', 'Ages_men', 'Ages_women', 'SizeOfHousehold', 'Married%', 'Edu_less_HS', 'Edu_HSD', 'Edu_Bachdegree', 'Edu_HSD25', 'Edu_Bachdegree25', '16+_Unemployed', 'Prv_HealthCov', 'Employ_PrvCov', 'Gov_HealthCov', 'Gov_HealthCov_Alone', 'White_Residents', 'Black_Residents', 'Married', 'Rate_Of_Birth'] ['ID', 'RateOfIncidence', 'Income', 'Poverty%', 'Age', 'Ages_men', 'Ages_women', 'SizeOfHousehold', 'Married%', 'Edu_less_HS', 'Edu_HSD', 'Edu_Bachdegree', 'Edu_HSD25', 'Edu_Bachdegree25', '16+_Unemployed', 'Prv_Public_HealthCov', 'Employ_PrvCov', 'Gov_HealthCov', 'Gov_HealthCov_Alone', 'White_Residents', 'Black_Residents', 'Married', 'Rate_Of_Birth']\nexpected Prv_HealthCov in input data\ntraining data did not have the following fields: Prv_Public_HealthCov"
          ]
        }
      ]
    },
    {
      "cell_type": "code",
      "source": [
        "kaggle_df2['Target_Death_Rate']=kaggle_pred2"
      ],
      "metadata": {
        "id": "hEHUSmcSsv9j"
      },
      "execution_count": null,
      "outputs": []
    },
    {
      "cell_type": "code",
      "source": [
        "kaggle_id2=test_data['ID']"
      ],
      "metadata": {
        "id": "WrpK-f5et6gY"
      },
      "execution_count": null,
      "outputs": []
    },
    {
      "cell_type": "code",
      "source": [
        "kaggle_id_df2=pd.DataFrame()"
      ],
      "metadata": {
        "id": "_T9HqAWat7zl"
      },
      "execution_count": null,
      "outputs": []
    },
    {
      "cell_type": "code",
      "source": [
        "kaggle_id_df2['ID']=kaggle_id2"
      ],
      "metadata": {
        "id": "XTA82zk6uUR2"
      },
      "execution_count": null,
      "outputs": []
    },
    {
      "cell_type": "code",
      "source": [
        "kaggle_submission15=pd.concat([kaggle_id_df2,kaggle_df2],axis=1)"
      ],
      "metadata": {
        "id": "CQC1RaB_t82W"
      },
      "execution_count": null,
      "outputs": []
    },
    {
      "cell_type": "code",
      "source": [
        "kaggle_csv15=kaggle_submission15.to_csv('/content/kaggle_sub16.csv')"
      ],
      "metadata": {
        "id": "0uKfu0i0t_rI"
      },
      "execution_count": null,
      "outputs": []
    },
    {
      "cell_type": "code",
      "source": [
        "kaggle_df2.head()"
      ],
      "metadata": {
        "id": "lGPNeptfuDqx"
      },
      "execution_count": null,
      "outputs": []
    },
    {
      "cell_type": "code",
      "source": [
        "csv16=pd.read_csv('/content/kaggle_sub16.csv')"
      ],
      "metadata": {
        "id": "8isNkBf9uE_4"
      },
      "execution_count": null,
      "outputs": []
    },
    {
      "cell_type": "code",
      "source": [
        "csv15[:5]"
      ],
      "metadata": {
        "id": "PkT8f4lGuIZp"
      },
      "execution_count": null,
      "outputs": []
    },
    {
      "cell_type": "code",
      "source": [
        "csv16[:5]"
      ],
      "metadata": {
        "id": "mEVFhYI7uMSf"
      },
      "execution_count": null,
      "outputs": []
    },
    {
      "cell_type": "code",
      "source": [
        ""
      ],
      "metadata": {
        "id": "I5pHanIgPDuH"
      },
      "execution_count": null,
      "outputs": []
    }
  ]
}